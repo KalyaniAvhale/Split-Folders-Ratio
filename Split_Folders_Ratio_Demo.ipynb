{
  "nbformat": 4,
  "nbformat_minor": 0,
  "metadata": {
    "colab": {
      "name": "Split-Folders.ipynb",
      "provenance": [],
      "collapsed_sections": [
        "bhBbhLJlLpxY"
      ]
    },
    "kernelspec": {
      "name": "python3",
      "display_name": "Python 3"
    },
    "language_info": {
      "name": "python"
    }
  },
  "cells": [
    {
      "cell_type": "code",
      "metadata": {
        "id": "3H9cJ0fMFogJ"
      },
      "source": [
        "#library split-folders to create train test and validation folders split\n",
        "!pip install -q split-folders"
      ],
      "execution_count": 1,
      "outputs": []
    },
    {
      "cell_type": "code",
      "metadata": {
        "id": "eGpG8eWHHCa5"
      },
      "source": [
        "#libraries required to work on directories processing \n",
        "import os\n",
        "import zipfile\n",
        "import splitfolders \n"
      ],
      "execution_count": 2,
      "outputs": []
    },
    {
      "cell_type": "code",
      "metadata": {
        "id": "qmtsQ7Z5HMhu"
      },
      "source": [
        "#extarct Dataset zip files from Google Drive to /tmp/ folder 📂 \n",
        "\n",
        "local_zip = '/content/drive/MyDrive/Colab Notebooks/Datasets/Flowers.zip'\n",
        "zip_ref = zipfile.ZipFile(local_zip,'r')\n",
        "zip_ref.extractall('/tmp/')\n",
        "zip_ref.close()"
      ],
      "execution_count": 3,
      "outputs": []
    },
    {
      "cell_type": "markdown",
      "metadata": {
        "id": "bhBbhLJlLpxY"
      },
      "source": [
        "## (.8 , .2) : Only train and validation "
      ]
    },
    {
      "cell_type": "code",
      "metadata": {
        "colab": {
          "base_uri": "https://localhost:8080/"
        },
        "id": "t2uFf2-lHkNP",
        "outputId": "d23e35f7-55ef-468a-b7ed-41ea82fa5185"
      },
      "source": [
        "#To only split into training and validation set\n",
        "splitfolders.ratio(\"../tmp/flowers\", output=\"output\", seed=1337, ratio=(.8, .2), group_prefix=None) "
      ],
      "execution_count": 4,
      "outputs": [
        {
          "output_type": "stream",
          "text": [
            "Copying files: 4317 files [00:00, 5044.19 files/s]\n"
          ],
          "name": "stderr"
        }
      ]
    },
    {
      "cell_type": "code",
      "metadata": {
        "colab": {
          "base_uri": "https://localhost:8080/"
        },
        "id": "UKsx7c1rIG8q",
        "outputId": "868c2eb1-9cde-48ae-8158-47789966c3a1"
      },
      "source": [
        "!ls  ./output #list generated directories "
      ],
      "execution_count": 7,
      "outputs": [
        {
          "output_type": "stream",
          "text": [
            "train  val\n"
          ],
          "name": "stdout"
        }
      ]
    },
    {
      "cell_type": "code",
      "metadata": {
        "colab": {
          "base_uri": "https://localhost:8080/"
        },
        "id": "QerjMvM9H0fb",
        "outputId": "32408960-bef1-4e0f-fb73-e02da6355b0c"
      },
      "source": [
        "print(len(os.listdir('/content/output/train/daisy')))\n",
        "print(len(os.listdir('/content/output/train/dandelion')))\n",
        "print(len(os.listdir('/content/output/train/rose')))\n",
        "print(len(os.listdir('/content/output/train/sunflower')))\n",
        "print(len(os.listdir('/content/output/train/tulip')))"
      ],
      "execution_count": 13,
      "outputs": [
        {
          "output_type": "stream",
          "text": [
            "153\n",
            "841\n",
            "627\n",
            "586\n",
            "787\n"
          ],
          "name": "stdout"
        }
      ]
    },
    {
      "cell_type": "code",
      "metadata": {
        "colab": {
          "base_uri": "https://localhost:8080/"
        },
        "id": "cKH8ZitxJB68",
        "outputId": "83571b84-8e36-47e6-a093-795450ba35f3"
      },
      "source": [
        "print(len(os.listdir('/content/output/val/daisy')))\n",
        "print(len(os.listdir('/content/output/val/dandelion')))\n",
        "print(len(os.listdir('/content/output/val/rose')))\n",
        "print(len(os.listdir('/content/output/val/sunflower')))\n",
        "print(len(os.listdir('/content/output/val/tulip')))"
      ],
      "execution_count": 14,
      "outputs": [
        {
          "output_type": "stream",
          "text": [
            "153\n",
            "211\n",
            "157\n",
            "147\n",
            "197\n"
          ],
          "name": "stdout"
        }
      ]
    },
    {
      "cell_type": "markdown",
      "metadata": {
        "id": "215O_55xLdZU"
      },
      "source": [
        "## (.2,.7,.1)"
      ]
    },
    {
      "cell_type": "code",
      "metadata": {
        "colab": {
          "base_uri": "https://localhost:8080/"
        },
        "id": "7uGqDCIYH779",
        "outputId": "1ce567b6-a4da-42fb-a288-ad5205ee2b4a"
      },
      "source": [
        "# Split the Dataset folders into train test val folders\n",
        "splitfolders.ratio(\"../tmp/flowers\", output=\"output3\", seed=100, ratio=(.2,.7,.1), group_prefix=None) "
      ],
      "execution_count": 16,
      "outputs": [
        {
          "output_type": "stream",
          "text": [
            "Copying files: 4317 files [00:00, 5101.18 files/s]\n"
          ],
          "name": "stderr"
        }
      ]
    },
    {
      "cell_type": "code",
      "metadata": {
        "colab": {
          "base_uri": "https://localhost:8080/"
        },
        "id": "oCbaoXLGIjcB",
        "outputId": "8e60d547-1ca8-4567-ea2e-cccc3284e0d7"
      },
      "source": [
        "!ls  ./output3 #list generated directories "
      ],
      "execution_count": 17,
      "outputs": [
        {
          "output_type": "stream",
          "text": [
            "test  train  val\n"
          ],
          "name": "stdout"
        }
      ]
    },
    {
      "cell_type": "code",
      "metadata": {
        "colab": {
          "base_uri": "https://localhost:8080/"
        },
        "id": "EL_EVWUoIm7w",
        "outputId": "c3d756da-6349-48f3-9198-04c475d7a122"
      },
      "source": [
        "print(len(os.listdir('/content/output3/train/daisy')))\n",
        "print(len(os.listdir('/content/output3/train/dandelion')))\n",
        "print(len(os.listdir('/content/output3/train/rose')))\n",
        "print(len(os.listdir('/content/output3/train/sunflower')))\n",
        "print(len(os.listdir('/content/output3/train/tulip')))"
      ],
      "execution_count": 19,
      "outputs": [
        {
          "output_type": "stream",
          "text": [
            "152\n",
            "210\n",
            "156\n",
            "146\n",
            "196\n"
          ],
          "name": "stdout"
        }
      ]
    },
    {
      "cell_type": "code",
      "metadata": {
        "colab": {
          "base_uri": "https://localhost:8080/"
        },
        "id": "p4_NGo4uJsam",
        "outputId": "7631e29b-c3c6-485b-b6f4-da5c48b244f2"
      },
      "source": [
        "print(len(os.listdir('/content/output3/val/daisy')))\n",
        "print(len(os.listdir('/content/output3/val/dandelion')))\n",
        "print(len(os.listdir('/content/output3/val/rose')))\n",
        "print(len(os.listdir('/content/output3/val/sunflower')))\n",
        "print(len(os.listdir('/content/output3/val/tulip')))"
      ],
      "execution_count": 20,
      "outputs": [
        {
          "output_type": "stream",
          "text": [
            "534\n",
            "736\n",
            "548\n",
            "513\n",
            "688\n"
          ],
          "name": "stdout"
        }
      ]
    },
    {
      "cell_type": "code",
      "metadata": {
        "colab": {
          "base_uri": "https://localhost:8080/"
        },
        "id": "TMya5E4jJ3Lx",
        "outputId": "7deeaa2a-92e9-41c4-f695-03f83fae03a7"
      },
      "source": [
        "print(len(os.listdir('/content/output3/test/daisy')))\n",
        "print(len(os.listdir('/content/output3/test/dandelion')))\n",
        "print(len(os.listdir('/content/output3/test/rose')))\n",
        "print(len(os.listdir('/content/output3/test/sunflower')))\n",
        "print(len(os.listdir('/content/output3/test/tulip')))"
      ],
      "execution_count": 21,
      "outputs": [
        {
          "output_type": "stream",
          "text": [
            "78\n",
            "106\n",
            "80\n",
            "74\n",
            "100\n"
          ],
          "name": "stdout"
        }
      ]
    },
    {
      "cell_type": "markdown",
      "metadata": {
        "id": "oMZUqr0rKurm"
      },
      "source": [
        "## Ratio (.8,.1,.1)"
      ]
    },
    {
      "cell_type": "code",
      "metadata": {
        "colab": {
          "base_uri": "https://localhost:8080/"
        },
        "id": "jmwbrr-fKtgI",
        "outputId": "4a49a2d4-9459-4f71-c5ee-17589a243bd7"
      },
      "source": [
        "# Split the Dataset folders into train test val folders\n",
        "splitfolders.ratio(\"../tmp/flowers\", output=\"output4\", seed=100, ratio=(.8,.1,.1), group_prefix=None) "
      ],
      "execution_count": 22,
      "outputs": [
        {
          "output_type": "stream",
          "text": [
            "Copying files: 4317 files [00:01, 3196.17 files/s]\n"
          ],
          "name": "stderr"
        }
      ]
    },
    {
      "cell_type": "code",
      "metadata": {
        "colab": {
          "base_uri": "https://localhost:8080/"
        },
        "id": "9mdowQx-KtgS",
        "outputId": "52f32fe5-fd6f-49ad-c50c-8eb9c6647001"
      },
      "source": [
        "!ls  ./output4 #list generated directories "
      ],
      "execution_count": 23,
      "outputs": [
        {
          "output_type": "stream",
          "text": [
            "test  train  val\n"
          ],
          "name": "stdout"
        }
      ]
    },
    {
      "cell_type": "code",
      "metadata": {
        "colab": {
          "base_uri": "https://localhost:8080/"
        },
        "id": "II09GvdaKtgT",
        "outputId": "99651dbe-0e20-4e18-cb9b-2c9a61726e9a"
      },
      "source": [
        "#count of images in each class for train dir \n",
        "print(len(os.listdir('/content/output4/train/daisy')))\n",
        "print(len(os.listdir('/content/output4/train/dandelion')))\n",
        "print(len(os.listdir('/content/output4/train/rose')))\n",
        "print(len(os.listdir('/content/output4/train/sunflower')))\n",
        "print(len(os.listdir('/content/output4/train/tulip')))"
      ],
      "execution_count": 24,
      "outputs": [
        {
          "output_type": "stream",
          "text": [
            "611\n",
            "841\n",
            "627\n",
            "586\n",
            "787\n"
          ],
          "name": "stdout"
        }
      ]
    },
    {
      "cell_type": "code",
      "metadata": {
        "colab": {
          "base_uri": "https://localhost:8080/"
        },
        "id": "olepM9qOKtgU",
        "outputId": "69fbb58c-8922-417b-da92-d755b17de717"
      },
      "source": [
        "#count of images in each class for test dir \n",
        "print(len(os.listdir('/content/output4/val/daisy')))\n",
        "print(len(os.listdir('/content/output4/val/dandelion')))\n",
        "print(len(os.listdir('/content/output4/val/rose')))\n",
        "print(len(os.listdir('/content/output4/val/sunflower')))\n",
        "print(len(os.listdir('/content/output4/val/tulip')))"
      ],
      "execution_count": 25,
      "outputs": [
        {
          "output_type": "stream",
          "text": [
            "76\n",
            "105\n",
            "78\n",
            "73\n",
            "98\n"
          ],
          "name": "stdout"
        }
      ]
    },
    {
      "cell_type": "code",
      "metadata": {
        "colab": {
          "base_uri": "https://localhost:8080/"
        },
        "id": "HztZMEtfKtgV",
        "outputId": "c560e6d0-d27d-4676-8bec-a2443a1a3bc6"
      },
      "source": [
        "#count of images in each class for val dir \n",
        "print(len(os.listdir('/content/output4/test/daisy')))\n",
        "print(len(os.listdir('/content/output4/test/dandelion')))\n",
        "print(len(os.listdir('/content/output4/test/rose')))\n",
        "print(len(os.listdir('/content/output4/test/sunflower')))\n",
        "print(len(os.listdir('/content/output4/test/tulip')))"
      ],
      "execution_count": 26,
      "outputs": [
        {
          "output_type": "stream",
          "text": [
            "77\n",
            "106\n",
            "79\n",
            "74\n",
            "99\n"
          ],
          "name": "stdout"
        }
      ]
    },
    {
      "cell_type": "code",
      "metadata": {
        "colab": {
          "base_uri": "https://localhost:8080/"
        },
        "id": "Q8Zf9PL1MSYG",
        "outputId": "fb1c8ed7-17ea-4520-8575-d91b2b57391a"
      },
      "source": [
        "# Split the Dataset folders into train test val folders\n",
        "splitfolders.ratio(\"../tmp/flowers\", output=\"output4\", seed=100, ratio=(.1,.2,.7), group_prefix=None) "
      ],
      "execution_count": 28,
      "outputs": [
        {
          "output_type": "stream",
          "text": [
            "Copying files: 4317 files [00:01, 3630.43 files/s]\n"
          ],
          "name": "stderr"
        }
      ]
    },
    {
      "cell_type": "code",
      "metadata": {
        "colab": {
          "base_uri": "https://localhost:8080/"
        },
        "id": "tWc39M7_MiJZ",
        "outputId": "7e3693d7-5987-428a-8315-3216e6ed2fdc"
      },
      "source": [
        "#count of images in each class for train dir \n",
        "print(len(os.listdir('/content/output4/train/daisy')))\n",
        "print(len(os.listdir('/content/output4/train/dandelion')))\n",
        "print(len(os.listdir('/content/output4/train/rose')))\n",
        "print(len(os.listdir('/content/output4/train/sunflower')))\n",
        "print(len(os.listdir('/content/output4/train/tulip')))"
      ],
      "execution_count": 29,
      "outputs": [
        {
          "output_type": "stream",
          "text": [
            "611\n",
            "841\n",
            "627\n",
            "586\n",
            "787\n"
          ],
          "name": "stdout"
        }
      ]
    },
    {
      "cell_type": "markdown",
      "metadata": {
        "id": "Zgg7RiHFMlxz"
      },
      "source": [
        "**Since the output floder was not changed ,specifying new ratio won't work**\n",
        "\n",
        "**Do specify other output folder 📂 each time if you are changing the split ratio**"
      ]
    },
    {
      "cell_type": "code",
      "metadata": {
        "id": "lG-T9eB-Mlea"
      },
      "source": [
        ""
      ],
      "execution_count": null,
      "outputs": []
    }
  ]
}